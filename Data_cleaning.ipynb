{
 "cells": [
  {
   "cell_type": "code",
   "execution_count": null,
   "metadata": {},
   "outputs": [],
   "source": [
    "import pandas as pd\n",
    "import numpy as np\n"
   ]
  },
  {
   "cell_type": "code",
   "execution_count": null,
   "metadata": {},
   "outputs": [],
   "source": [
    "df0_Stock_idx = pd.read_csv('market_index_data_version1.csv')\n",
    "df1_gov_spend = pd.read_csv('historical-gov-spending-gdp.csv')\n",
    "df2_mil_spend = pd.read_csv('military-expenditure-share-gdp.csv')\n",
    "df3_edu_spend = pd.read_csv('total-government-expenditure-on-education-gdp.csv')\n",
    "df4_urbanization = pd.read_csv('urban-and-rural-population.csv')\n",
    "df5_adopting_tech = pd.read_csv('ict-adoption-per-100-people.csv')\n",
    "df6_gdp_per_capita = pd.read_csv('gdp-per-capita-world-bank-constant-usd.csv')\n",
    "df7_tex_revnue = pd.read_csv('tax-revenue-national-income-longrun.csv')"
   ]
  },
  {
   "cell_type": "code",
   "execution_count": null,
   "metadata": {},
   "outputs": [],
   "source": [
    "#Clean Data to focus only on the United States...\n",
    "desired_country = 'United States'  \n",
    "df1_gov_spend = df1_gov_spend[df1_gov_spend['Entity'] == desired_country]\n",
    "df2_mil_spend = df2_mil_spend[df2_mil_spend['Entity'] == desired_country]\n",
    "df3_edu_spend = df3_edu_spend[df3_edu_spend['Entity'] == desired_country]\n",
    "df4_urbanization = df4_urbanization[df4_urbanization['Entity'] == desired_country]\n",
    "df5_adopting_tech = df5_adopting_tech[df5_adopting_tech['Entity'] == desired_country]\n",
    "df6_gdp_per_capita = df6_gdp_per_capita[df6_gdp_per_capita['Entity'] == desired_country]\n",
    "df7_tax_revnue = df7_tex_revnue[df7_tex_revnue['Entity'] == desired_country]"
   ]
  },
  {
   "cell_type": "code",
   "execution_count": null,
   "metadata": {},
   "outputs": [],
   "source": [
    "#Check the time frame of each data set\n",
    "df1_gov_spend\n",
    "# 1880 - 2011\n",
    "df2_mil_spend\n",
    "#1949 - 2020\n",
    "df3_edu_spend\n",
    "#1960 - 2020\n",
    "df4_urbanization\n",
    "#1960 - 2021\n",
    "df5_adopting_tech\n",
    "#1960 - 2021\n",
    "df6_gdp_per_capita\n",
    "#1950 - 2019\n",
    "df7_tax_revnue\n",
    "#1902 - 2008\n"
   ]
  },
  {
   "cell_type": "code",
   "execution_count": null,
   "metadata": {},
   "outputs": [],
   "source": [
    "# Test merge the dataset on year.. Used two dataset with the exact same time range 1960 -2021. \n",
    "merged_df = pd.merge(df_df4_urbanization, df5_adopting_tech, on='Year', how='inner')\n",
    "merged_df"
   ]
  },
  {
   "cell_type": "code",
   "execution_count": null,
   "metadata": {},
   "outputs": [],
   "source": [
    "# Test merge the dataset on year.. Used two dataset with different time ranges 1880 - 2011 and 1902 - 2008. \n",
    "merged_df2 = pd.merge(df6_gdp_per_capita_df1_gov_spend, df7_tax_revnue, on='Year', how ='left')\n",
    "merged_df2"
   ]
  }
 ],
 "metadata": {
  "kernelspec": {
   "display_name": "base",
   "language": "python",
   "name": "python3"
  },
  "language_info": {
   "codemirror_mode": {
    "name": "ipython",
    "version": 3
   },
   "file_extension": ".py",
   "mimetype": "text/x-python",
   "name": "python",
   "nbconvert_exporter": "python",
   "pygments_lexer": "ipython3",
   "version": "3.11.5"
  }
 },
 "nbformat": 4,
 "nbformat_minor": 2
}
